{
 "cells": [
  {
   "cell_type": "code",
   "execution_count": 1,
   "metadata": {},
   "outputs": [],
   "source": [
    "import pandas as pd"
   ]
  },
  {
   "cell_type": "code",
   "execution_count": 20,
   "metadata": {},
   "outputs": [],
   "source": [
    "df_books = pd.read_csv(\"bestsellers-with-categories.csv\",sep=\",\",header=0,names=['Namesssss', 'Authorrrrrr', 'User Rating', 'Reviews', 'Price', 'Year', 'Genre'])\n",
    "#Levanto archivo .csv solo tengo que indicarle la ruta, delimitador, si tiene o no header y poner o cambiar el nombre de las columnas"
   ]
  },
  {
   "cell_type": "code",
   "execution_count": 21,
   "metadata": {},
   "outputs": [
    {
     "data": {
      "text/plain": [
       "0       {'Name': 'Mrs. Abbott', 'Link': 'https://www.h...\n",
       "1       {'Name': 'Hannah Abbott', 'Link': 'https://www...\n",
       "2       {'Name': 'Abel Treetops', 'Link': 'https://www...\n",
       "3       {'Name': 'Euan Abercrombie', 'Link': 'https://...\n",
       "4       {'Name': 'Aberforth Dumbledore', 'Link': 'http...\n",
       "                              ...                        \n",
       "1935    {'Name': 'Georgi Zdravko', 'Link': 'https://ww...\n",
       "1936    {'Name': 'Zograf', 'Link': 'https://www.hp-lex...\n",
       "1937    {'Name': 'Zonko', 'Link': 'https://www.hp-lexi...\n",
       "1938    {'Name': 'Valentina Vázquez', 'Link': 'https:/...\n",
       "1939    {'Name': 'Zygmunt Budge', 'Link': 'https://www...\n",
       "Length: 1940, dtype: object"
      ]
     },
     "execution_count": 21,
     "metadata": {},
     "output_type": "execute_result"
    }
   ],
   "source": [
    "pd.read_json(\"HPCharactersDataRaw.json\",typ=\"Series\") #Levanto un arhivo .json. Con typ me lo levanta en formato llave-valor\n"
   ]
  }
 ],
 "metadata": {
  "kernelspec": {
   "display_name": "Python 3.9.13",
   "language": "python",
   "name": "python3"
  },
  "language_info": {
   "codemirror_mode": {
    "name": "ipython",
    "version": 3
   },
   "file_extension": ".py",
   "mimetype": "text/x-python",
   "name": "python",
   "nbconvert_exporter": "python",
   "pygments_lexer": "ipython3",
   "version": "3.9.13"
  },
  "orig_nbformat": 4,
  "vscode": {
   "interpreter": {
    "hash": "60884342bf72175cf7de5b7e12db6fd1c9177060ff0393b73ce258f40c78f635"
   }
  }
 },
 "nbformat": 4,
 "nbformat_minor": 2
}
