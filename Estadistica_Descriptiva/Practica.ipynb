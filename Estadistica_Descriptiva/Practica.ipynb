{
 "cells": [
  {
   "cell_type": "code",
   "execution_count": 39,
   "metadata": {},
   "outputs": [],
   "source": [
    "#Graficos embebidos\n",
    "%matplotlib inline"
   ]
  },
  {
   "cell_type": "code",
   "execution_count": 40,
   "metadata": {},
   "outputs": [],
   "source": [
    "#Ejemplos de estadistica descriptiva con Python\n",
    "import numpy as np #importando numpy\n",
    "from scipy import stats #importando scipy.stats\n",
    "import pandas as pd # importando pandas\n",
    "import matplotlib.pyplot as plt #importando matplotlib\n",
    "import seaborn as sns #importando seaborn"
   ]
  },
  {
   "cell_type": "code",
   "execution_count": 6,
   "metadata": {},
   "outputs": [
    {
     "data": {
      "text/plain": [
       "array([[ 0.46038022, -1.08942528, -0.62681496, -0.63329028],\n",
       "       [-0.1074033 , -0.88138082, -0.34466623, -0.28320214],\n",
       "       [ 0.94051171,  0.86693793,  1.20947882, -0.16894118],\n",
       "       [-0.12790177, -0.58099931, -0.46188426, -0.18148302],\n",
       "       [-0.76959435, -1.37414587,  1.37696874, -0.18040537]])"
      ]
     },
     "execution_count": 6,
     "metadata": {},
     "output_type": "execute_result"
    }
   ],
   "source": [
    "np.random.seed(2131982) # Para poder aplicar el random\n",
    "datos = np.random.randn(5,4) #Datos normalmente distribuidos\n",
    "datos"
   ]
  },
  {
   "cell_type": "code",
   "execution_count": 11,
   "metadata": {},
   "outputs": [
    {
     "data": {
      "text/plain": [
       "-0.14786303590303568"
      ]
     },
     "execution_count": 11,
     "metadata": {},
     "output_type": "execute_result"
    }
   ],
   "source": [
    "#Media aritmetica\n",
    "datos.mean() #Calculo la media aritmetica"
   ]
  },
  {
   "cell_type": "code",
   "execution_count": 12,
   "metadata": {},
   "outputs": [
    {
     "data": {
      "text/plain": [
       "-0.14786303590303568"
      ]
     },
     "execution_count": 12,
     "metadata": {},
     "output_type": "execute_result"
    }
   ],
   "source": [
    "np.mean(datos) #Mismo resultado pero desde Numpy"
   ]
  },
  {
   "cell_type": "code",
   "execution_count": 13,
   "metadata": {},
   "outputs": [
    {
     "data": {
      "text/plain": [
       "array([-0.47228757, -0.40416312,  0.71199682, -0.33806709, -0.23679421])"
      ]
     },
     "execution_count": 13,
     "metadata": {},
     "output_type": "execute_result"
    }
   ],
   "source": [
    "datos.mean(axis=1)#Media aritmetica por fila"
   ]
  },
  {
   "cell_type": "code",
   "execution_count": 14,
   "metadata": {},
   "outputs": [
    {
     "data": {
      "text/plain": [
       "array([ 0.0791985 , -0.61180267,  0.23061642, -0.2894644 ])"
      ]
     },
     "execution_count": 14,
     "metadata": {},
     "output_type": "execute_result"
    }
   ],
   "source": [
    "datos.mean(axis=0)#Media aritmetica por columna"
   ]
  },
  {
   "cell_type": "code",
   "execution_count": 16,
   "metadata": {},
   "outputs": [
    {
     "data": {
      "text/plain": [
       "-0.23234258265023794"
      ]
     },
     "execution_count": 16,
     "metadata": {},
     "output_type": "execute_result"
    }
   ],
   "source": [
    "#Mediana\n",
    "np.median(datos)"
   ]
  },
  {
   "cell_type": "code",
   "execution_count": 17,
   "metadata": {},
   "outputs": [
    {
     "data": {
      "text/plain": [
       "array([-0.1074033 , -0.88138082, -0.34466623, -0.18148302])"
      ]
     },
     "execution_count": 17,
     "metadata": {},
     "output_type": "execute_result"
    }
   ],
   "source": [
    "np.median(datos,0)#Mediana por columna"
   ]
  },
  {
   "cell_type": "code",
   "execution_count": 18,
   "metadata": {},
   "outputs": [
    {
     "data": {
      "text/plain": [
       "0.7375535458407161"
      ]
     },
     "execution_count": 18,
     "metadata": {},
     "output_type": "execute_result"
    }
   ],
   "source": [
    "#Desviación Tipica\n",
    "np.std(datos)"
   ]
  },
  {
   "cell_type": "code",
   "execution_count": 19,
   "metadata": {},
   "outputs": [
    {
     "data": {
      "text/plain": [
       "array([0.58057213, 0.78352862, 0.87384108, 0.17682485])"
      ]
     },
     "execution_count": 19,
     "metadata": {},
     "output_type": "execute_result"
    }
   ],
   "source": [
    "np.std(datos,0) #Desviacion tipica por columnas"
   ]
  },
  {
   "cell_type": "code",
   "execution_count": 20,
   "metadata": {},
   "outputs": [
    {
     "data": {
      "text/plain": [
       "0.5439852329822132"
      ]
     },
     "execution_count": 20,
     "metadata": {},
     "output_type": "execute_result"
    }
   ],
   "source": [
    "#Varianza\n",
    "np.var(datos)"
   ]
  },
  {
   "cell_type": "code",
   "execution_count": 21,
   "metadata": {},
   "outputs": [
    {
     "data": {
      "text/plain": [
       "array([0.337064  , 0.6139171 , 0.76359823, 0.03126703])"
      ]
     },
     "execution_count": 21,
     "metadata": {},
     "output_type": "execute_result"
    }
   ],
   "source": [
    "np.var(datos,0) #Varianza por columna"
   ]
  },
  {
   "cell_type": "code",
   "execution_count": 22,
   "metadata": {},
   "outputs": [
    {
     "name": "stderr",
     "output_type": "stream",
     "text": [
      "/tmp/ipykernel_20914/2417940656.py:2: FutureWarning: Unlike other reduction functions (e.g. `skew`, `kurtosis`), the default behavior of `mode` typically preserves the axis it acts along. In SciPy 1.11.0, this behavior will change: the default value of `keepdims` will become False, the `axis` over which the statistic is taken will be eliminated, and the value None will no longer be accepted. Set `keepdims` to True or False to avoid this warning.\n",
      "  stats.mode(datos)\n"
     ]
    },
    {
     "data": {
      "text/plain": [
       "ModeResult(mode=array([[-0.76959435, -1.37414587, -0.62681496, -0.63329028]]), count=array([[1, 1, 1, 1]]))"
      ]
     },
     "execution_count": 22,
     "metadata": {},
     "output_type": "execute_result"
    }
   ],
   "source": [
    "#Moda\n",
    "stats.mode(datos) #Calcula la moda de cada columna\n",
    "#El 2do array devuelve la frecuencia"
   ]
  },
  {
   "cell_type": "code",
   "execution_count": 23,
   "metadata": {},
   "outputs": [
    {
     "name": "stderr",
     "output_type": "stream",
     "text": [
      "/tmp/ipykernel_20914/2395146662.py:2: FutureWarning: Unlike other reduction functions (e.g. `skew`, `kurtosis`), the default behavior of `mode` typically preserves the axis it acts along. In SciPy 1.11.0, this behavior will change: the default value of `keepdims` will become False, the `axis` over which the statistic is taken will be eliminated, and the value None will no longer be accepted. Set `keepdims` to True or False to avoid this warning.\n",
      "  stats.mode(datos2)\n"
     ]
    },
    {
     "data": {
      "text/plain": [
       "ModeResult(mode=array([6]), count=array([5]))"
      ]
     },
     "execution_count": 23,
     "metadata": {},
     "output_type": "execute_result"
    }
   ],
   "source": [
    "datos2 = np.array([1, 2, 3, 6, 6, 1, 2, 4, 2, 2, 6, 6, 8, 10, 6])\n",
    "stats.mode(datos2) #Aca la moda es el 6 porque aparece 5 veces en el vector."
   ]
  },
  {
   "cell_type": "code",
   "execution_count": 24,
   "metadata": {},
   "outputs": [
    {
     "data": {
      "text/plain": [
       "array([[ 1.        ,  0.82333743,  0.15257202,  0.78798675, -0.02292073],\n",
       "       [ 0.82333743,  1.        , -0.13709662,  0.86873632,  0.41234875],\n",
       "       [ 0.15257202, -0.13709662,  1.        , -0.47691376,  0.21216856],\n",
       "       [ 0.78798675,  0.86873632, -0.47691376,  1.        , -0.03445705],\n",
       "       [-0.02292073,  0.41234875,  0.21216856, -0.03445705,  1.        ]])"
      ]
     },
     "execution_count": 24,
     "metadata": {},
     "output_type": "execute_result"
    }
   ],
   "source": [
    "#Correlacion\n",
    "np.corrcoef(datos)#Crea matriz de correlacion"
   ]
  },
  {
   "cell_type": "code",
   "execution_count": 25,
   "metadata": {},
   "outputs": [
    {
     "data": {
      "text/plain": [
       "array([[1.        , 0.82333743],\n",
       "       [0.82333743, 1.        ]])"
      ]
     },
     "execution_count": 25,
     "metadata": {},
     "output_type": "execute_result"
    }
   ],
   "source": [
    "#Calculo de la correlacion entre 2 vectores:\n",
    "np.corrcoef(datos[0],datos[1])"
   ]
  },
  {
   "cell_type": "code",
   "execution_count": 27,
   "metadata": {},
   "outputs": [
    {
     "data": {
      "text/plain": [
       "array([[ 0.43350958,  0.18087281,  0.06082243,  0.11328658, -0.01782409],\n",
       "       [ 0.18087281,  0.11132485, -0.0276957 ,  0.06329134,  0.16249513],\n",
       "       [ 0.06082243, -0.0276957 ,  0.36658864, -0.06305065,  0.15172255],\n",
       "       [ 0.11328658,  0.06329134, -0.06305065,  0.04767826, -0.00888624],\n",
       "       [-0.01782409,  0.16249513,  0.15172255, -0.00888624,  1.39495179]])"
      ]
     },
     "execution_count": 27,
     "metadata": {},
     "output_type": "execute_result"
    }
   ],
   "source": [
    "#Covarianza\n",
    "np.cov(datos)#Calculo la matriz de covarianza"
   ]
  },
  {
   "cell_type": "code",
   "execution_count": 26,
   "metadata": {},
   "outputs": [
    {
     "data": {
      "text/plain": [
       "array([[0.43350958, 0.18087281],\n",
       "       [0.18087281, 0.11132485]])"
      ]
     },
     "execution_count": 26,
     "metadata": {},
     "output_type": "execute_result"
    }
   ],
   "source": [
    "#Covarianza de dos vectores\n",
    "np.cov(datos[0],datos[1])"
   ]
  },
  {
   "cell_type": "code",
   "execution_count": 28,
   "metadata": {},
   "outputs": [
    {
     "data": {
      "text/html": [
       "<div>\n",
       "<style scoped>\n",
       "    .dataframe tbody tr th:only-of-type {\n",
       "        vertical-align: middle;\n",
       "    }\n",
       "\n",
       "    .dataframe tbody tr th {\n",
       "        vertical-align: top;\n",
       "    }\n",
       "\n",
       "    .dataframe thead th {\n",
       "        text-align: right;\n",
       "    }\n",
       "</style>\n",
       "<table border=\"1\" class=\"dataframe\">\n",
       "  <thead>\n",
       "    <tr style=\"text-align: right;\">\n",
       "      <th></th>\n",
       "      <th>col1</th>\n",
       "      <th>col2</th>\n",
       "      <th>col3</th>\n",
       "      <th>col4</th>\n",
       "    </tr>\n",
       "  </thead>\n",
       "  <tbody>\n",
       "    <tr>\n",
       "      <th>a</th>\n",
       "      <td>0.460380</td>\n",
       "      <td>-1.089425</td>\n",
       "      <td>-0.626815</td>\n",
       "      <td>-0.633290</td>\n",
       "    </tr>\n",
       "    <tr>\n",
       "      <th>b</th>\n",
       "      <td>-0.107403</td>\n",
       "      <td>-0.881381</td>\n",
       "      <td>-0.344666</td>\n",
       "      <td>-0.283202</td>\n",
       "    </tr>\n",
       "    <tr>\n",
       "      <th>c</th>\n",
       "      <td>0.940512</td>\n",
       "      <td>0.866938</td>\n",
       "      <td>1.209479</td>\n",
       "      <td>-0.168941</td>\n",
       "    </tr>\n",
       "    <tr>\n",
       "      <th>d</th>\n",
       "      <td>-0.127902</td>\n",
       "      <td>-0.580999</td>\n",
       "      <td>-0.461884</td>\n",
       "      <td>-0.181483</td>\n",
       "    </tr>\n",
       "    <tr>\n",
       "      <th>e</th>\n",
       "      <td>-0.769594</td>\n",
       "      <td>-1.374146</td>\n",
       "      <td>1.376969</td>\n",
       "      <td>-0.180405</td>\n",
       "    </tr>\n",
       "  </tbody>\n",
       "</table>\n",
       "</div>"
      ],
      "text/plain": [
       "       col1      col2      col3      col4\n",
       "a  0.460380 -1.089425 -0.626815 -0.633290\n",
       "b -0.107403 -0.881381 -0.344666 -0.283202\n",
       "c  0.940512  0.866938  1.209479 -0.168941\n",
       "d -0.127902 -0.580999 -0.461884 -0.181483\n",
       "e -0.769594 -1.374146  1.376969 -0.180405"
      ]
     },
     "execution_count": 28,
     "metadata": {},
     "output_type": "execute_result"
    }
   ],
   "source": [
    "#Uso Pandas\n",
    "dataframe = pd.DataFrame(datos, index=['a','b','c','d','e'], columns=['col1','col2','col3','col4'])\n",
    "dataframe"
   ]
  },
  {
   "cell_type": "code",
   "execution_count": 29,
   "metadata": {},
   "outputs": [
    {
     "data": {
      "text/html": [
       "<div>\n",
       "<style scoped>\n",
       "    .dataframe tbody tr th:only-of-type {\n",
       "        vertical-align: middle;\n",
       "    }\n",
       "\n",
       "    .dataframe tbody tr th {\n",
       "        vertical-align: top;\n",
       "    }\n",
       "\n",
       "    .dataframe thead th {\n",
       "        text-align: right;\n",
       "    }\n",
       "</style>\n",
       "<table border=\"1\" class=\"dataframe\">\n",
       "  <thead>\n",
       "    <tr style=\"text-align: right;\">\n",
       "      <th></th>\n",
       "      <th>col1</th>\n",
       "      <th>col2</th>\n",
       "      <th>col3</th>\n",
       "      <th>col4</th>\n",
       "    </tr>\n",
       "  </thead>\n",
       "  <tbody>\n",
       "    <tr>\n",
       "      <th>count</th>\n",
       "      <td>5.000000</td>\n",
       "      <td>5.000000</td>\n",
       "      <td>5.000000</td>\n",
       "      <td>5.000000</td>\n",
       "    </tr>\n",
       "    <tr>\n",
       "      <th>mean</th>\n",
       "      <td>0.079199</td>\n",
       "      <td>-0.611803</td>\n",
       "      <td>0.230616</td>\n",
       "      <td>-0.289464</td>\n",
       "    </tr>\n",
       "    <tr>\n",
       "      <th>std</th>\n",
       "      <td>0.649099</td>\n",
       "      <td>0.876012</td>\n",
       "      <td>0.976984</td>\n",
       "      <td>0.197696</td>\n",
       "    </tr>\n",
       "    <tr>\n",
       "      <th>min</th>\n",
       "      <td>-0.769594</td>\n",
       "      <td>-1.374146</td>\n",
       "      <td>-0.626815</td>\n",
       "      <td>-0.633290</td>\n",
       "    </tr>\n",
       "    <tr>\n",
       "      <th>25%</th>\n",
       "      <td>-0.127902</td>\n",
       "      <td>-1.089425</td>\n",
       "      <td>-0.461884</td>\n",
       "      <td>-0.283202</td>\n",
       "    </tr>\n",
       "    <tr>\n",
       "      <th>50%</th>\n",
       "      <td>-0.107403</td>\n",
       "      <td>-0.881381</td>\n",
       "      <td>-0.344666</td>\n",
       "      <td>-0.181483</td>\n",
       "    </tr>\n",
       "    <tr>\n",
       "      <th>75%</th>\n",
       "      <td>0.460380</td>\n",
       "      <td>-0.580999</td>\n",
       "      <td>1.209479</td>\n",
       "      <td>-0.180405</td>\n",
       "    </tr>\n",
       "    <tr>\n",
       "      <th>max</th>\n",
       "      <td>0.940512</td>\n",
       "      <td>0.866938</td>\n",
       "      <td>1.376969</td>\n",
       "      <td>-0.168941</td>\n",
       "    </tr>\n",
       "  </tbody>\n",
       "</table>\n",
       "</div>"
      ],
      "text/plain": [
       "           col1      col2      col3      col4\n",
       "count  5.000000  5.000000  5.000000  5.000000\n",
       "mean   0.079199 -0.611803  0.230616 -0.289464\n",
       "std    0.649099  0.876012  0.976984  0.197696\n",
       "min   -0.769594 -1.374146 -0.626815 -0.633290\n",
       "25%   -0.127902 -1.089425 -0.461884 -0.283202\n",
       "50%   -0.107403 -0.881381 -0.344666 -0.181483\n",
       "75%    0.460380 -0.580999  1.209479 -0.180405\n",
       "max    0.940512  0.866938  1.376969 -0.168941"
      ]
     },
     "execution_count": 29,
     "metadata": {},
     "output_type": "execute_result"
    }
   ],
   "source": [
    "#Resumen Estadistico con Pandas\n",
    "dataframe.describe()"
   ]
  },
  {
   "cell_type": "code",
   "execution_count": 30,
   "metadata": {},
   "outputs": [
    {
     "data": {
      "text/plain": [
       "col1    0.395993\n",
       "col2   -3.059013\n",
       "col3    1.153082\n",
       "col4   -1.447322\n",
       "dtype: float64"
      ]
     },
     "execution_count": 30,
     "metadata": {},
     "output_type": "execute_result"
    }
   ],
   "source": [
    "#Sumando columnas\n",
    "dataframe.sum()"
   ]
  },
  {
   "cell_type": "code",
   "execution_count": 31,
   "metadata": {},
   "outputs": [
    {
     "data": {
      "text/plain": [
       "a   -1.889150\n",
       "b   -1.616652\n",
       "c    2.847987\n",
       "d   -1.352268\n",
       "e   -0.947177\n",
       "dtype: float64"
      ]
     },
     "execution_count": 31,
     "metadata": {},
     "output_type": "execute_result"
    }
   ],
   "source": [
    "#Sumando Filas\n",
    "dataframe.sum(axis=1)"
   ]
  },
  {
   "cell_type": "code",
   "execution_count": 32,
   "metadata": {},
   "outputs": [
    {
     "data": {
      "text/html": [
       "<div>\n",
       "<style scoped>\n",
       "    .dataframe tbody tr th:only-of-type {\n",
       "        vertical-align: middle;\n",
       "    }\n",
       "\n",
       "    .dataframe tbody tr th {\n",
       "        vertical-align: top;\n",
       "    }\n",
       "\n",
       "    .dataframe thead th {\n",
       "        text-align: right;\n",
       "    }\n",
       "</style>\n",
       "<table border=\"1\" class=\"dataframe\">\n",
       "  <thead>\n",
       "    <tr style=\"text-align: right;\">\n",
       "      <th></th>\n",
       "      <th>col1</th>\n",
       "      <th>col2</th>\n",
       "      <th>col3</th>\n",
       "      <th>col4</th>\n",
       "    </tr>\n",
       "  </thead>\n",
       "  <tbody>\n",
       "    <tr>\n",
       "      <th>a</th>\n",
       "      <td>0.460380</td>\n",
       "      <td>-1.089425</td>\n",
       "      <td>-0.626815</td>\n",
       "      <td>-0.633290</td>\n",
       "    </tr>\n",
       "    <tr>\n",
       "      <th>b</th>\n",
       "      <td>0.352977</td>\n",
       "      <td>-1.970806</td>\n",
       "      <td>-0.971481</td>\n",
       "      <td>-0.916492</td>\n",
       "    </tr>\n",
       "    <tr>\n",
       "      <th>c</th>\n",
       "      <td>1.293489</td>\n",
       "      <td>-1.103868</td>\n",
       "      <td>0.237998</td>\n",
       "      <td>-1.085434</td>\n",
       "    </tr>\n",
       "    <tr>\n",
       "      <th>d</th>\n",
       "      <td>1.165587</td>\n",
       "      <td>-1.684867</td>\n",
       "      <td>-0.223887</td>\n",
       "      <td>-1.266917</td>\n",
       "    </tr>\n",
       "    <tr>\n",
       "      <th>e</th>\n",
       "      <td>0.395993</td>\n",
       "      <td>-3.059013</td>\n",
       "      <td>1.153082</td>\n",
       "      <td>-1.447322</td>\n",
       "    </tr>\n",
       "  </tbody>\n",
       "</table>\n",
       "</div>"
      ],
      "text/plain": [
       "       col1      col2      col3      col4\n",
       "a  0.460380 -1.089425 -0.626815 -0.633290\n",
       "b  0.352977 -1.970806 -0.971481 -0.916492\n",
       "c  1.293489 -1.103868  0.237998 -1.085434\n",
       "d  1.165587 -1.684867 -0.223887 -1.266917\n",
       "e  0.395993 -3.059013  1.153082 -1.447322"
      ]
     },
     "execution_count": 32,
     "metadata": {},
     "output_type": "execute_result"
    }
   ],
   "source": [
    "#Acumulados\n",
    "dataframe.cumsum()"
   ]
  },
  {
   "cell_type": "code",
   "execution_count": 33,
   "metadata": {},
   "outputs": [
    {
     "data": {
      "text/plain": [
       "col1    0.079199\n",
       "col2   -0.611803\n",
       "col3    0.230616\n",
       "col4   -0.289464\n",
       "dtype: float64"
      ]
     },
     "execution_count": 33,
     "metadata": {},
     "output_type": "execute_result"
    }
   ],
   "source": [
    "#Media aritmetica con Pandas\n",
    "dataframe.mean()"
   ]
  },
  {
   "cell_type": "code",
   "execution_count": 34,
   "metadata": {},
   "outputs": [
    {
     "data": {
      "text/plain": [
       "a   -0.472288\n",
       "b   -0.404163\n",
       "c    0.711997\n",
       "d   -0.338067\n",
       "e   -0.236794\n",
       "dtype: float64"
      ]
     },
     "execution_count": 34,
     "metadata": {},
     "output_type": "execute_result"
    }
   ],
   "source": [
    "#Media aritmetica por fila en Pandas\n",
    "dataframe.mean(axis=1)"
   ]
  },
  {
   "cell_type": "code",
   "execution_count": 41,
   "metadata": {},
   "outputs": [],
   "source": [
    "#Parametros esteticos de Seaborn\n",
    "sns.set_palette(\"deep\", desat = .6)\n",
    "sns.set_context(rc={\"figure.figsize\":(8,4)})"
   ]
  },
  {
   "cell_type": "code",
   "execution_count": 42,
   "metadata": {},
   "outputs": [],
   "source": [
    "mu, sigma = 0, 0.1 #media y desvio estandar\n",
    "s = np.random.normal(mu,sigma,1000) #Creo muestra de datos"
   ]
  },
  {
   "cell_type": "code",
   "execution_count": 49,
   "metadata": {},
   "outputs": [
    {
     "data": {
      "image/png": "[encoded data removed]",
      "text/plain": [
       "<Figure size 640x480 with 1 Axes>"
      ]
     },
     "metadata": {},
     "output_type": "display_data"
    }
   ],
   "source": [
    "# Histograma de distribucion normal:\n",
    "cuenta, cajas, ignorar = plt.hist(s, 30, density=True)\n",
    "normal = plt.plot(cajas,1/(sigma * np.sqrt(2 * np.pi)) * np.exp( - (cajas -mu)**2 / (2 * sigma**2)),linewidth= 2, color = 'r')\n",
    "plt.grid()\n",
    "plt.show()"
   ]
  },
  {
   "cell_type": "code",
   "execution_count": 50,
   "metadata": {},
   "outputs": [
    {
     "data": {
      "image/png": "[encoded data removed]",
      "text/plain": [
       "<Figure size 640x480 with 1 Axes>"
      ]
     },
     "metadata": {},
     "output_type": "display_data"
    }
   ],
   "source": [
    "#Dibujando la distribucion Gamma\n",
    "x = stats.gamma(3).rvs(5000)\n",
    "gamma = plt.hist(x, 70, histtype=\"stepfilled\", alpha=.7)\n",
    "plt.show()"
   ]
  },
  {
   "cell_type": "code",
   "execution_count": 51,
   "metadata": {},
   "outputs": [
    {
     "data": {
      "text/plain": [
       "1.1659193385274405"
      ]
     },
     "execution_count": 51,
     "metadata": {},
     "output_type": "execute_result"
    }
   ],
   "source": [
    "#Calculo la simetria con Scipy\n",
    "stats.skew(x)"
   ]
  },
  {
   "cell_type": "code",
   "execution_count": 52,
   "metadata": {},
   "outputs": [],
   "source": [
    "#Ejemplo de grafico de cajas en Python\n",
    "datos_1 = np.random.normal(100,10,200)\n",
    "datos_2 = np.random.normal(80,30,200)\n",
    "datos_3 = np.random.normal(90,20,200)\n",
    "datos_4 = np.random.normal(70,25,200)\n",
    "\n",
    "datos_graf = [datos_1, datos_2, datos_3, datos_4]"
   ]
  },
  {
   "cell_type": "code",
   "execution_count": 55,
   "metadata": {},
   "outputs": [
    {
     "data": {
      "image/png": "[encoded data removed]",
      "text/plain": [
       "<Figure size 900x600 with 1 Axes>"
      ]
     },
     "metadata": {},
     "output_type": "display_data"
    }
   ],
   "source": [
    "#Crear el objeto figura\n",
    "fig = plt.figure(1, figsize=(9,6))\n",
    "\n",
    "#Creo el subgrafico\n",
    "ax = fig.add_subplot(111)\n",
    "\n",
    "#Creo el grafico de cajas\n",
    "bp = ax.boxplot(datos_graf)\n",
    "\n",
    "#Visualizo mas facil los datos atipicos\n",
    "for flier in bp['fliers']:\n",
    "    flier.set(marker='o', color = 'red', alpha = 0.5)\n",
    "#Los puntos aislados son valores atipicos\n"
   ]
  },
  {
   "cell_type": "code",
   "execution_count": 67,
   "metadata": {},
   "outputs": [
    {
     "data": {
      "text/plain": [
       "<AxesSubplot: >"
      ]
     },
     "execution_count": 67,
     "metadata": {},
     "output_type": "execute_result"
    },
    {
     "data": {
      "image/png": "[encoded data removed]",
      "text/plain": [
       "<Figure size 640x480 with 1 Axes>"
      ]
     },
     "metadata": {},
     "output_type": "display_data"
    }
   ],
   "source": [
    "#Usando Seaborn\n",
    "sns.boxplot(datos_graf, labels=[[\"grupo1\", \"grupo2\", \"grupo3\", \"grupo4\"]], color = 'Palegreen')"
   ]
  }
 ],
 "metadata": {
  "kernelspec": {
   "display_name": "Python 3.10.8 ('base')",
   "language": "python",
   "name": "python3"
  },
  "language_info": {
   "codemirror_mode": {
    "name": "ipython",
    "version": 3
   },
   "file_extension": ".py",
   "mimetype": "text/x-python",
   "name": "python",
   "nbconvert_exporter": "python",
   "pygments_lexer": "ipython3",
   "version": "3.10.8"
  },
  "orig_nbformat": 4,
  "vscode": {
   "interpreter": {
    "hash": "a76506e07119807eaf4aa105df285ead1efd3064ca1b68190bc77cf67df09fc3"
   }
  }
 },
 "nbformat": 4,
 "nbformat_minor": 2
}
